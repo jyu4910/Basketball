{
 "cells": [
  {
   "cell_type": "code",
   "execution_count": 1,
   "metadata": {},
   "outputs": [],
   "source": [
    "from datascience import *\n",
    "import pandas as pd \n",
    "import numpy as np\n",
    "import matplotlib.pyplot as plt\n",
    "import seaborn as sns\n",
    "\n",
    "import matplotlib\n",
    "matplotlib.use('Agg', warn=False)\n",
    "%matplotlib inline\n",
    "import matplotlib.pyplot as plots\n",
    "plots.style.use('fivethirtyeight')\n",
    "import warnings\n",
    "warnings.simplefilter(action=\"ignore\", category=FutureWarning)\n",
    "\n",
    "from pandas.api.types import CategoricalDtype\n",
    "\n",
    "from sklearn.feature_extraction import DictVectorizer"
   ]
  },
  {
   "cell_type": "markdown",
   "metadata": {},
   "source": [
    "Want to see if there's a correlation between a player's position and how long they play in a game."
   ]
  },
  {
   "cell_type": "code",
   "execution_count": 2,
   "metadata": {},
   "outputs": [
    {
     "data": {
      "text/html": [
       "<div>\n",
       "<style scoped>\n",
       "    .dataframe tbody tr th:only-of-type {\n",
       "        vertical-align: middle;\n",
       "    }\n",
       "\n",
       "    .dataframe tbody tr th {\n",
       "        vertical-align: top;\n",
       "    }\n",
       "\n",
       "    .dataframe thead th {\n",
       "        text-align: right;\n",
       "    }\n",
       "</style>\n",
       "<table border=\"1\" class=\"dataframe\">\n",
       "  <thead>\n",
       "    <tr style=\"text-align: right;\">\n",
       "      <th></th>\n",
       "      <th>gmDate</th>\n",
       "      <th>gmTime</th>\n",
       "      <th>seasTyp</th>\n",
       "      <th>playLNm</th>\n",
       "      <th>playFNm</th>\n",
       "      <th>teamAbbr</th>\n",
       "      <th>teamConf</th>\n",
       "      <th>teamDiv</th>\n",
       "      <th>teamLoc</th>\n",
       "      <th>teamRslt</th>\n",
       "      <th>...</th>\n",
       "      <th>playFT%</th>\n",
       "      <th>playORB</th>\n",
       "      <th>playDRB</th>\n",
       "      <th>playTRB</th>\n",
       "      <th>opptAbbr</th>\n",
       "      <th>opptConf</th>\n",
       "      <th>opptDiv</th>\n",
       "      <th>opptLoc</th>\n",
       "      <th>opptRslt</th>\n",
       "      <th>opptDayOff</th>\n",
       "    </tr>\n",
       "  </thead>\n",
       "  <tbody>\n",
       "    <tr>\n",
       "      <th>0</th>\n",
       "      <td>2012-10-30</td>\n",
       "      <td>19:00</td>\n",
       "      <td>Regular</td>\n",
       "      <td>Price</td>\n",
       "      <td>A.J.</td>\n",
       "      <td>WAS</td>\n",
       "      <td>East</td>\n",
       "      <td>Southeast</td>\n",
       "      <td>Away</td>\n",
       "      <td>Loss</td>\n",
       "      <td>...</td>\n",
       "      <td>1.0</td>\n",
       "      <td>1</td>\n",
       "      <td>1</td>\n",
       "      <td>2</td>\n",
       "      <td>CLE</td>\n",
       "      <td>East</td>\n",
       "      <td>Central</td>\n",
       "      <td>Home</td>\n",
       "      <td>Win</td>\n",
       "      <td>0</td>\n",
       "    </tr>\n",
       "    <tr>\n",
       "      <th>1</th>\n",
       "      <td>2012-10-30</td>\n",
       "      <td>19:00</td>\n",
       "      <td>Regular</td>\n",
       "      <td>Ariza</td>\n",
       "      <td>Trevor</td>\n",
       "      <td>WAS</td>\n",
       "      <td>East</td>\n",
       "      <td>Southeast</td>\n",
       "      <td>Away</td>\n",
       "      <td>Loss</td>\n",
       "      <td>...</td>\n",
       "      <td>0.5</td>\n",
       "      <td>1</td>\n",
       "      <td>2</td>\n",
       "      <td>3</td>\n",
       "      <td>CLE</td>\n",
       "      <td>East</td>\n",
       "      <td>Central</td>\n",
       "      <td>Home</td>\n",
       "      <td>Win</td>\n",
       "      <td>0</td>\n",
       "    </tr>\n",
       "    <tr>\n",
       "      <th>2</th>\n",
       "      <td>2012-10-30</td>\n",
       "      <td>19:00</td>\n",
       "      <td>Regular</td>\n",
       "      <td>Okafor</td>\n",
       "      <td>Emeka</td>\n",
       "      <td>WAS</td>\n",
       "      <td>East</td>\n",
       "      <td>Southeast</td>\n",
       "      <td>Away</td>\n",
       "      <td>Loss</td>\n",
       "      <td>...</td>\n",
       "      <td>0.5</td>\n",
       "      <td>5</td>\n",
       "      <td>2</td>\n",
       "      <td>7</td>\n",
       "      <td>CLE</td>\n",
       "      <td>East</td>\n",
       "      <td>Central</td>\n",
       "      <td>Home</td>\n",
       "      <td>Win</td>\n",
       "      <td>0</td>\n",
       "    </tr>\n",
       "  </tbody>\n",
       "</table>\n",
       "<p>3 rows × 51 columns</p>\n",
       "</div>"
      ],
      "text/plain": [
       "       gmDate gmTime  seasTyp playLNm playFNm teamAbbr teamConf    teamDiv  \\\n",
       "0  2012-10-30  19:00  Regular   Price    A.J.      WAS     East  Southeast   \n",
       "1  2012-10-30  19:00  Regular   Ariza  Trevor      WAS     East  Southeast   \n",
       "2  2012-10-30  19:00  Regular  Okafor   Emeka      WAS     East  Southeast   \n",
       "\n",
       "  teamLoc teamRslt  ...  playFT% playORB playDRB playTRB opptAbbr opptConf  \\\n",
       "0    Away     Loss  ...      1.0       1       1       2      CLE     East   \n",
       "1    Away     Loss  ...      0.5       1       2       3      CLE     East   \n",
       "2    Away     Loss  ...      0.5       5       2       7      CLE     East   \n",
       "\n",
       "   opptDiv opptLoc opptRslt  opptDayOff  \n",
       "0  Central    Home      Win           0  \n",
       "1  Central    Home      Win           0  \n",
       "2  Central    Home      Win           0  \n",
       "\n",
       "[3 rows x 51 columns]"
      ]
     },
     "execution_count": 2,
     "metadata": {},
     "output_type": "execute_result"
    }
   ],
   "source": [
    "plyboxscore = pd.read_csv(\"Basketball-PlayerBoxScore.csv\")\n",
    "plyboxscore.head(3)"
   ]
  },
  {
   "cell_type": "markdown",
   "metadata": {},
   "source": [
    "Check where the null values are."
   ]
  },
  {
   "cell_type": "code",
   "execution_count": 3,
   "metadata": {},
   "outputs": [
    {
     "data": {
      "text/plain": [
       "gmDate         0\n",
       "gmTime         0\n",
       "seasTyp        0\n",
       "playLNm        0\n",
       "playFNm        0\n",
       "teamAbbr       0\n",
       "teamConf       0\n",
       "teamDiv        0\n",
       "teamLoc        0\n",
       "teamRslt       0\n",
       "teamDayOff     0\n",
       "offLNm1        0\n",
       "offFNm1        0\n",
       "offLNm2        0\n",
       "offFNm2        0\n",
       "offLNm3       41\n",
       "offFNm3       41\n",
       "playDispNm     0\n",
       "playStat       0\n",
       "playMin        0\n",
       "playPos        0\n",
       "playHeight     0\n",
       "playWeight     0\n",
       "playBDate      0\n",
       "playPTS        0\n",
       "playAST        0\n",
       "playTO         0\n",
       "playSTL        0\n",
       "playBLK        0\n",
       "playPF         0\n",
       "playFGA        0\n",
       "playFGM        0\n",
       "playFG%        0\n",
       "play2PA        0\n",
       "play2PM        0\n",
       "play2P%        0\n",
       "play3PA        0\n",
       "play3PM        0\n",
       "play3P%        0\n",
       "playFTA        0\n",
       "playFTM        0\n",
       "playFT%        0\n",
       "playORB        0\n",
       "playDRB        0\n",
       "playTRB        0\n",
       "opptAbbr       0\n",
       "opptConf       0\n",
       "opptDiv        0\n",
       "opptLoc        0\n",
       "opptRslt       0\n",
       "opptDayOff     0\n",
       "dtype: int64"
      ]
     },
     "execution_count": 3,
     "metadata": {},
     "output_type": "execute_result"
    }
   ],
   "source": [
    "plyboxscore.isna().sum()"
   ]
  },
  {
   "cell_type": "markdown",
   "metadata": {},
   "source": [
    "The null values are a few players' first and last name. Now, check all the players' positions in the dataset."
   ]
  },
  {
   "cell_type": "code",
   "execution_count": 4,
   "metadata": {},
   "outputs": [
    {
     "data": {
      "text/plain": [
       "SG    33794\n",
       "PF    33466\n",
       "PG    33091\n",
       "SF    29993\n",
       "C     25060\n",
       "F       191\n",
       "G       118\n",
       "Name: playPos, dtype: int64"
      ]
     },
     "execution_count": 4,
     "metadata": {},
     "output_type": "execute_result"
    }
   ],
   "source": [
    "plyboxscore['playPos'].value_counts()"
   ]
  },
  {
   "cell_type": "markdown",
   "metadata": {},
   "source": [
    "Make a new dataframe and replace SG/PG with G and PF/SF with F. Grouped this dataframe by the position and took the mean."
   ]
  },
  {
   "cell_type": "code",
   "execution_count": 5,
   "metadata": {},
   "outputs": [
    {
     "data": {
      "text/html": [
       "<div>\n",
       "<style scoped>\n",
       "    .dataframe tbody tr th:only-of-type {\n",
       "        vertical-align: middle;\n",
       "    }\n",
       "\n",
       "    .dataframe tbody tr th {\n",
       "        vertical-align: top;\n",
       "    }\n",
       "\n",
       "    .dataframe thead th {\n",
       "        text-align: right;\n",
       "    }\n",
       "</style>\n",
       "<table border=\"1\" class=\"dataframe\">\n",
       "  <thead>\n",
       "    <tr style=\"text-align: right;\">\n",
       "      <th></th>\n",
       "      <th>teamDayOff</th>\n",
       "      <th>playMin</th>\n",
       "      <th>playHeight</th>\n",
       "      <th>playWeight</th>\n",
       "      <th>playPTS</th>\n",
       "      <th>playAST</th>\n",
       "      <th>playTO</th>\n",
       "      <th>playSTL</th>\n",
       "      <th>playBLK</th>\n",
       "      <th>playPF</th>\n",
       "      <th>...</th>\n",
       "      <th>play3PA</th>\n",
       "      <th>play3PM</th>\n",
       "      <th>play3P%</th>\n",
       "      <th>playFTA</th>\n",
       "      <th>playFTM</th>\n",
       "      <th>playFT%</th>\n",
       "      <th>playORB</th>\n",
       "      <th>playDRB</th>\n",
       "      <th>playTRB</th>\n",
       "      <th>opptDayOff</th>\n",
       "    </tr>\n",
       "    <tr>\n",
       "      <th>playPos</th>\n",
       "      <th></th>\n",
       "      <th></th>\n",
       "      <th></th>\n",
       "      <th></th>\n",
       "      <th></th>\n",
       "      <th></th>\n",
       "      <th></th>\n",
       "      <th></th>\n",
       "      <th></th>\n",
       "      <th></th>\n",
       "      <th></th>\n",
       "      <th></th>\n",
       "      <th></th>\n",
       "      <th></th>\n",
       "      <th></th>\n",
       "      <th></th>\n",
       "      <th></th>\n",
       "      <th></th>\n",
       "      <th></th>\n",
       "      <th></th>\n",
       "      <th></th>\n",
       "    </tr>\n",
       "  </thead>\n",
       "  <tbody>\n",
       "    <tr>\n",
       "      <th>C</th>\n",
       "      <td>1.941540</td>\n",
       "      <td>21.636153</td>\n",
       "      <td>83.213288</td>\n",
       "      <td>249.510056</td>\n",
       "      <td>8.908619</td>\n",
       "      <td>1.242298</td>\n",
       "      <td>1.272227</td>\n",
       "      <td>0.549521</td>\n",
       "      <td>0.948524</td>\n",
       "      <td>2.286512</td>\n",
       "      <td>...</td>\n",
       "      <td>0.443057</td>\n",
       "      <td>0.148723</td>\n",
       "      <td>0.051737</td>\n",
       "      <td>2.408739</td>\n",
       "      <td>1.625579</td>\n",
       "      <td>0.420333</td>\n",
       "      <td>2.009018</td>\n",
       "      <td>4.434876</td>\n",
       "      <td>6.443895</td>\n",
       "      <td>1.936472</td>\n",
       "    </tr>\n",
       "    <tr>\n",
       "      <th>F</th>\n",
       "      <td>1.943896</td>\n",
       "      <td>22.572930</td>\n",
       "      <td>80.632663</td>\n",
       "      <td>228.395994</td>\n",
       "      <td>9.340801</td>\n",
       "      <td>1.478963</td>\n",
       "      <td>1.122451</td>\n",
       "      <td>0.689772</td>\n",
       "      <td>0.521084</td>\n",
       "      <td>1.936261</td>\n",
       "      <td>...</td>\n",
       "      <td>2.081163</td>\n",
       "      <td>0.735648</td>\n",
       "      <td>0.203271</td>\n",
       "      <td>2.056795</td>\n",
       "      <td>1.537141</td>\n",
       "      <td>0.409245</td>\n",
       "      <td>1.149065</td>\n",
       "      <td>3.445719</td>\n",
       "      <td>4.594784</td>\n",
       "      <td>1.942467</td>\n",
       "    </tr>\n",
       "    <tr>\n",
       "      <th>G</th>\n",
       "      <td>1.938600</td>\n",
       "      <td>23.739773</td>\n",
       "      <td>75.902437</td>\n",
       "      <td>196.269988</td>\n",
       "      <td>10.325702</td>\n",
       "      <td>3.061684</td>\n",
       "      <td>1.490142</td>\n",
       "      <td>0.846574</td>\n",
       "      <td>0.221348</td>\n",
       "      <td>1.739101</td>\n",
       "      <td>...</td>\n",
       "      <td>3.142964</td>\n",
       "      <td>1.133024</td>\n",
       "      <td>0.279189</td>\n",
       "      <td>2.166082</td>\n",
       "      <td>1.742982</td>\n",
       "      <td>0.446968</td>\n",
       "      <td>0.479367</td>\n",
       "      <td>2.253123</td>\n",
       "      <td>2.732490</td>\n",
       "      <td>1.937242</td>\n",
       "    </tr>\n",
       "  </tbody>\n",
       "</table>\n",
       "<p>3 rows × 26 columns</p>\n",
       "</div>"
      ],
      "text/plain": [
       "         teamDayOff    playMin  playHeight  playWeight    playPTS   playAST  \\\n",
       "playPos                                                                       \n",
       "C          1.941540  21.636153   83.213288  249.510056   8.908619  1.242298   \n",
       "F          1.943896  22.572930   80.632663  228.395994   9.340801  1.478963   \n",
       "G          1.938600  23.739773   75.902437  196.269988  10.325702  3.061684   \n",
       "\n",
       "           playTO   playSTL   playBLK    playPF  ...   play3PA   play3PM  \\\n",
       "playPos                                          ...                       \n",
       "C        1.272227  0.549521  0.948524  2.286512  ...  0.443057  0.148723   \n",
       "F        1.122451  0.689772  0.521084  1.936261  ...  2.081163  0.735648   \n",
       "G        1.490142  0.846574  0.221348  1.739101  ...  3.142964  1.133024   \n",
       "\n",
       "          play3P%   playFTA   playFTM   playFT%   playORB   playDRB   playTRB  \\\n",
       "playPos                                                                         \n",
       "C        0.051737  2.408739  1.625579  0.420333  2.009018  4.434876  6.443895   \n",
       "F        0.203271  2.056795  1.537141  0.409245  1.149065  3.445719  4.594784   \n",
       "G        0.279189  2.166082  1.742982  0.446968  0.479367  2.253123  2.732490   \n",
       "\n",
       "         opptDayOff  \n",
       "playPos              \n",
       "C          1.936472  \n",
       "F          1.942467  \n",
       "G          1.937242  \n",
       "\n",
       "[3 rows x 26 columns]"
      ]
     },
     "execution_count": 5,
     "metadata": {},
     "output_type": "execute_result"
    }
   ],
   "source": [
    "position_test = plyboxscore.replace(['PG', 'SG'], 'G').replace(['PF', 'SF'], 'F')\n",
    "groupby_playpos = position_test.groupby(\"playPos\").mean()\n",
    "groupby_playpos"
   ]
  },
  {
   "cell_type": "markdown",
   "metadata": {},
   "source": [
    "Check if there's any null values in our new groupby_playpos dataframe."
   ]
  },
  {
   "cell_type": "code",
   "execution_count": 6,
   "metadata": {},
   "outputs": [
    {
     "data": {
      "text/plain": [
       "False"
      ]
     },
     "execution_count": 6,
     "metadata": {},
     "output_type": "execute_result"
    }
   ],
   "source": [
    "groupby_playpos.isnull().values.any()"
   ]
  },
  {
   "cell_type": "markdown",
   "metadata": {},
   "source": [
    "Make a box and whisker plot on player minute to see if there's any correlation between a player's position and, on average, how long they played. "
   ]
  },
  {
   "cell_type": "code",
   "execution_count": 7,
   "metadata": {},
   "outputs": [
    {
     "data": {
      "image/png": "[encoded data removed]",
      "text/plain": [
       "<Figure size 432x288 with 1 Axes>"
      ]
     },
     "metadata": {},
     "output_type": "display_data"
    }
   ],
   "source": [
    "#the plot below does not seem to show any correlation between a player's position and how long they played\n",
    "#Figure 1\n",
    "sns.boxplot(x=\"playPos\", y=\"playMin\", data=position_test).set_title('Average Player Minute');"
   ]
  },
  {
   "cell_type": "markdown",
   "metadata": {},
   "source": [
    "The plot does not seem to show any correlation between a player's position and how long they played. Now, standardize the groupby_playpos dataframe."
   ]
  },
  {
   "cell_type": "code",
   "execution_count": 8,
   "metadata": {},
   "outputs": [],
   "source": [
    "#defined a standardize function\n",
    "def standard(df):\n",
    "    columns_list = []\n",
    "    for col in df.columns:\n",
    "        columns_list= np.append(columns_list, col)\n",
    "    for i in columns_list:\n",
    "        df[i] = (df[i] - df[i].mean())/(df[i].std())"
   ]
  },
  {
   "cell_type": "code",
   "execution_count": 9,
   "metadata": {},
   "outputs": [
    {
     "data": {
      "text/html": [
       "<div>\n",
       "<style scoped>\n",
       "    .dataframe tbody tr th:only-of-type {\n",
       "        vertical-align: middle;\n",
       "    }\n",
       "\n",
       "    .dataframe tbody tr th {\n",
       "        vertical-align: top;\n",
       "    }\n",
       "\n",
       "    .dataframe thead th {\n",
       "        text-align: right;\n",
       "    }\n",
       "</style>\n",
       "<table border=\"1\" class=\"dataframe\">\n",
       "  <thead>\n",
       "    <tr style=\"text-align: right;\">\n",
       "      <th></th>\n",
       "      <th>teamDayOff</th>\n",
       "      <th>playMin</th>\n",
       "      <th>playHeight</th>\n",
       "      <th>playWeight</th>\n",
       "      <th>playPTS</th>\n",
       "      <th>playAST</th>\n",
       "      <th>playTO</th>\n",
       "      <th>playSTL</th>\n",
       "      <th>playBLK</th>\n",
       "      <th>playPF</th>\n",
       "      <th>...</th>\n",
       "      <th>play3PA</th>\n",
       "      <th>play3PM</th>\n",
       "      <th>play3P%</th>\n",
       "      <th>playFTA</th>\n",
       "      <th>playFTM</th>\n",
       "      <th>playFT%</th>\n",
       "      <th>playORB</th>\n",
       "      <th>playDRB</th>\n",
       "      <th>playTRB</th>\n",
       "      <th>opptDayOff</th>\n",
       "    </tr>\n",
       "    <tr>\n",
       "      <th>playPos</th>\n",
       "      <th></th>\n",
       "      <th></th>\n",
       "      <th></th>\n",
       "      <th></th>\n",
       "      <th></th>\n",
       "      <th></th>\n",
       "      <th></th>\n",
       "      <th></th>\n",
       "      <th></th>\n",
       "      <th></th>\n",
       "      <th></th>\n",
       "      <th></th>\n",
       "      <th></th>\n",
       "      <th></th>\n",
       "      <th></th>\n",
       "      <th></th>\n",
       "      <th></th>\n",
       "      <th></th>\n",
       "      <th></th>\n",
       "      <th></th>\n",
       "      <th></th>\n",
       "    </tr>\n",
       "  </thead>\n",
       "  <tbody>\n",
       "    <tr>\n",
       "      <th>C</th>\n",
       "      <td>0.073425</td>\n",
       "      <td>-0.961629</td>\n",
       "      <td>0.889268</td>\n",
       "      <td>0.924486</td>\n",
       "      <td>-0.848733</td>\n",
       "      <td>-0.692828</td>\n",
       "      <td>-0.122844</td>\n",
       "      <td>-0.980920</td>\n",
       "      <td>1.053139</td>\n",
       "      <td>1.079244</td>\n",
       "      <td>...</td>\n",
       "      <td>-1.063109</td>\n",
       "      <td>-1.057674</td>\n",
       "      <td>-1.090903</td>\n",
       "      <td>1.100291</td>\n",
       "      <td>-0.093502</td>\n",
       "      <td>-0.267293</td>\n",
       "      <td>1.038784</td>\n",
       "      <td>0.967517</td>\n",
       "      <td>0.998814</td>\n",
       "      <td>-0.691238</td>\n",
       "    </tr>\n",
       "    <tr>\n",
       "      <th>F</th>\n",
       "      <td>0.961264</td>\n",
       "      <td>-0.072766</td>\n",
       "      <td>0.193254</td>\n",
       "      <td>0.136918</td>\n",
       "      <td>-0.253674</td>\n",
       "      <td>-0.453581</td>\n",
       "      <td>-0.932903</td>\n",
       "      <td>-0.037125</td>\n",
       "      <td>-0.116480</td>\n",
       "      <td>-0.184060</td>\n",
       "      <td>...</td>\n",
       "      <td>0.141234</td>\n",
       "      <td>0.127595</td>\n",
       "      <td>0.217658</td>\n",
       "      <td>-0.853494</td>\n",
       "      <td>-0.949965</td>\n",
       "      <td>-0.839193</td>\n",
       "      <td>-0.082705</td>\n",
       "      <td>0.062074</td>\n",
       "      <td>0.002368</td>\n",
       "      <td>1.146645</td>\n",
       "    </tr>\n",
       "    <tr>\n",
       "      <th>G</th>\n",
       "      <td>-1.034689</td>\n",
       "      <td>1.034396</td>\n",
       "      <td>-1.082523</td>\n",
       "      <td>-1.061404</td>\n",
       "      <td>1.102407</td>\n",
       "      <td>1.146409</td>\n",
       "      <td>1.055747</td>\n",
       "      <td>1.018046</td>\n",
       "      <td>-0.936659</td>\n",
       "      <td>-0.895184</td>\n",
       "      <td>...</td>\n",
       "      <td>0.921875</td>\n",
       "      <td>0.930078</td>\n",
       "      <td>0.873245</td>\n",
       "      <td>-0.246797</td>\n",
       "      <td>1.043467</td>\n",
       "      <td>1.106485</td>\n",
       "      <td>-0.956079</td>\n",
       "      <td>-1.029591</td>\n",
       "      <td>-1.001182</td>\n",
       "      <td>-0.455407</td>\n",
       "    </tr>\n",
       "  </tbody>\n",
       "</table>\n",
       "<p>3 rows × 26 columns</p>\n",
       "</div>"
      ],
      "text/plain": [
       "         teamDayOff   playMin  playHeight  playWeight   playPTS   playAST  \\\n",
       "playPos                                                                     \n",
       "C          0.073425 -0.961629    0.889268    0.924486 -0.848733 -0.692828   \n",
       "F          0.961264 -0.072766    0.193254    0.136918 -0.253674 -0.453581   \n",
       "G         -1.034689  1.034396   -1.082523   -1.061404  1.102407  1.146409   \n",
       "\n",
       "           playTO   playSTL   playBLK    playPF  ...   play3PA   play3PM  \\\n",
       "playPos                                          ...                       \n",
       "C       -0.122844 -0.980920  1.053139  1.079244  ... -1.063109 -1.057674   \n",
       "F       -0.932903 -0.037125 -0.116480 -0.184060  ...  0.141234  0.127595   \n",
       "G        1.055747  1.018046 -0.936659 -0.895184  ...  0.921875  0.930078   \n",
       "\n",
       "          play3P%   playFTA   playFTM   playFT%   playORB   playDRB   playTRB  \\\n",
       "playPos                                                                         \n",
       "C       -1.090903  1.100291 -0.093502 -0.267293  1.038784  0.967517  0.998814   \n",
       "F        0.217658 -0.853494 -0.949965 -0.839193 -0.082705  0.062074  0.002368   \n",
       "G        0.873245 -0.246797  1.043467  1.106485 -0.956079 -1.029591 -1.001182   \n",
       "\n",
       "         opptDayOff  \n",
       "playPos              \n",
       "C         -0.691238  \n",
       "F          1.146645  \n",
       "G         -0.455407  \n",
       "\n",
       "[3 rows x 26 columns]"
      ]
     },
     "execution_count": 9,
     "metadata": {},
     "output_type": "execute_result"
    }
   ],
   "source": [
    "#standardize the new dataframe\n",
    "standard(groupby_playpos)\n",
    "groupby_playpos.head(3)"
   ]
  },
  {
   "cell_type": "markdown",
   "metadata": {},
   "source": [
    "Make a heatmap with all the statistics."
   ]
  },
  {
   "cell_type": "code",
   "execution_count": 10,
   "metadata": {},
   "outputs": [
    {
     "data": {
      "image/png": "[encoded data removed]",
      "text/plain": [
       "<Figure size 432x288 with 2 Axes>"
      ]
     },
     "metadata": {},
     "output_type": "display_data"
    }
   ],
   "source": [
    "#Figure 2 \n",
    "sns.heatmap(groupby_playpos).set_title('Heatmap');"
   ]
  },
  {
   "cell_type": "markdown",
   "metadata": {},
   "source": [
    "Make a box and whisker plot on the average player heights."
   ]
  },
  {
   "cell_type": "code",
   "execution_count": 11,
   "metadata": {},
   "outputs": [
    {
     "data": {
      "image/png": "[encoded data removed]",
      "text/plain": [
       "<Figure size 432x288 with 1 Axes>"
      ]
     },
     "metadata": {},
     "output_type": "display_data"
    }
   ],
   "source": [
    "#Figure 3\n",
    "sns.boxplot(x=\"playPos\", y=\"playHeight\", data=position_test).set_title('Average Player Height');"
   ]
  },
  {
   "cell_type": "markdown",
   "metadata": {},
   "source": [
    "Make a box and whisker plot on the average player weights."
   ]
  },
  {
   "cell_type": "code",
   "execution_count": 12,
   "metadata": {},
   "outputs": [
    {
     "data": {
      "image/png": "[encoded data removed]",
      "text/plain": [
       "<Figure size 432x288 with 1 Axes>"
      ]
     },
     "metadata": {},
     "output_type": "display_data"
    }
   ],
   "source": [
    "#Figure 4\n",
    "sns.boxplot(x=\"playPos\", y=\"playWeight\", data=position_test).set_title('Average Player Weight');"
   ]
  },
  {
   "cell_type": "markdown",
   "metadata": {},
   "source": [
    "Now for predictive modeling, we want to predict a player's position. Make a copy of the dataframe that replaced SF/PF with F and SG/PG with G."
   ]
  },
  {
   "cell_type": "code",
   "execution_count": 13,
   "metadata": {},
   "outputs": [
    {
     "data": {
      "text/html": [
       "<div>\n",
       "<style scoped>\n",
       "    .dataframe tbody tr th:only-of-type {\n",
       "        vertical-align: middle;\n",
       "    }\n",
       "\n",
       "    .dataframe tbody tr th {\n",
       "        vertical-align: top;\n",
       "    }\n",
       "\n",
       "    .dataframe thead th {\n",
       "        text-align: right;\n",
       "    }\n",
       "</style>\n",
       "<table border=\"1\" class=\"dataframe\">\n",
       "  <thead>\n",
       "    <tr style=\"text-align: right;\">\n",
       "      <th></th>\n",
       "      <th>gmDate</th>\n",
       "      <th>gmTime</th>\n",
       "      <th>seasTyp</th>\n",
       "      <th>playLNm</th>\n",
       "      <th>playFNm</th>\n",
       "      <th>teamAbbr</th>\n",
       "      <th>teamConf</th>\n",
       "      <th>teamDiv</th>\n",
       "      <th>teamLoc</th>\n",
       "      <th>teamRslt</th>\n",
       "      <th>...</th>\n",
       "      <th>playFT%</th>\n",
       "      <th>playORB</th>\n",
       "      <th>playDRB</th>\n",
       "      <th>playTRB</th>\n",
       "      <th>opptAbbr</th>\n",
       "      <th>opptConf</th>\n",
       "      <th>opptDiv</th>\n",
       "      <th>opptLoc</th>\n",
       "      <th>opptRslt</th>\n",
       "      <th>opptDayOff</th>\n",
       "    </tr>\n",
       "  </thead>\n",
       "  <tbody>\n",
       "    <tr>\n",
       "      <th>0</th>\n",
       "      <td>2012-10-30</td>\n",
       "      <td>19:00</td>\n",
       "      <td>Regular</td>\n",
       "      <td>Price</td>\n",
       "      <td>A.J.</td>\n",
       "      <td>WAS</td>\n",
       "      <td>East</td>\n",
       "      <td>Southeast</td>\n",
       "      <td>Away</td>\n",
       "      <td>Loss</td>\n",
       "      <td>...</td>\n",
       "      <td>1.0</td>\n",
       "      <td>1</td>\n",
       "      <td>1</td>\n",
       "      <td>2</td>\n",
       "      <td>CLE</td>\n",
       "      <td>East</td>\n",
       "      <td>Central</td>\n",
       "      <td>Home</td>\n",
       "      <td>Win</td>\n",
       "      <td>0</td>\n",
       "    </tr>\n",
       "    <tr>\n",
       "      <th>1</th>\n",
       "      <td>2012-10-30</td>\n",
       "      <td>19:00</td>\n",
       "      <td>Regular</td>\n",
       "      <td>Ariza</td>\n",
       "      <td>Trevor</td>\n",
       "      <td>WAS</td>\n",
       "      <td>East</td>\n",
       "      <td>Southeast</td>\n",
       "      <td>Away</td>\n",
       "      <td>Loss</td>\n",
       "      <td>...</td>\n",
       "      <td>0.5</td>\n",
       "      <td>1</td>\n",
       "      <td>2</td>\n",
       "      <td>3</td>\n",
       "      <td>CLE</td>\n",
       "      <td>East</td>\n",
       "      <td>Central</td>\n",
       "      <td>Home</td>\n",
       "      <td>Win</td>\n",
       "      <td>0</td>\n",
       "    </tr>\n",
       "    <tr>\n",
       "      <th>2</th>\n",
       "      <td>2012-10-30</td>\n",
       "      <td>19:00</td>\n",
       "      <td>Regular</td>\n",
       "      <td>Okafor</td>\n",
       "      <td>Emeka</td>\n",
       "      <td>WAS</td>\n",
       "      <td>East</td>\n",
       "      <td>Southeast</td>\n",
       "      <td>Away</td>\n",
       "      <td>Loss</td>\n",
       "      <td>...</td>\n",
       "      <td>0.5</td>\n",
       "      <td>5</td>\n",
       "      <td>2</td>\n",
       "      <td>7</td>\n",
       "      <td>CLE</td>\n",
       "      <td>East</td>\n",
       "      <td>Central</td>\n",
       "      <td>Home</td>\n",
       "      <td>Win</td>\n",
       "      <td>0</td>\n",
       "    </tr>\n",
       "  </tbody>\n",
       "</table>\n",
       "<p>3 rows × 51 columns</p>\n",
       "</div>"
      ],
      "text/plain": [
       "       gmDate gmTime  seasTyp playLNm playFNm teamAbbr teamConf    teamDiv  \\\n",
       "0  2012-10-30  19:00  Regular   Price    A.J.      WAS     East  Southeast   \n",
       "1  2012-10-30  19:00  Regular   Ariza  Trevor      WAS     East  Southeast   \n",
       "2  2012-10-30  19:00  Regular  Okafor   Emeka      WAS     East  Southeast   \n",
       "\n",
       "  teamLoc teamRslt  ...  playFT% playORB playDRB playTRB opptAbbr opptConf  \\\n",
       "0    Away     Loss  ...      1.0       1       1       2      CLE     East   \n",
       "1    Away     Loss  ...      0.5       1       2       3      CLE     East   \n",
       "2    Away     Loss  ...      0.5       5       2       7      CLE     East   \n",
       "\n",
       "   opptDiv opptLoc opptRslt  opptDayOff  \n",
       "0  Central    Home      Win           0  \n",
       "1  Central    Home      Win           0  \n",
       "2  Central    Home      Win           0  \n",
       "\n",
       "[3 rows x 51 columns]"
      ]
     },
     "execution_count": 13,
     "metadata": {},
     "output_type": "execute_result"
    }
   ],
   "source": [
    "second_copy_ply = position_test.copy()\n",
    "second_copy_ply.head(3)"
   ]
  },
  {
   "cell_type": "markdown",
   "metadata": {},
   "source": [
    "Decided on a list of columns to drop. Make a new column 'playPosLabel' which had different numbers corresponding to the position the player had."
   ]
  },
  {
   "cell_type": "code",
   "execution_count": 14,
   "metadata": {},
   "outputs": [
    {
     "data": {
      "text/html": [
       "<div>\n",
       "<style scoped>\n",
       "    .dataframe tbody tr th:only-of-type {\n",
       "        vertical-align: middle;\n",
       "    }\n",
       "\n",
       "    .dataframe tbody tr th {\n",
       "        vertical-align: top;\n",
       "    }\n",
       "\n",
       "    .dataframe thead th {\n",
       "        text-align: right;\n",
       "    }\n",
       "</style>\n",
       "<table border=\"1\" class=\"dataframe\">\n",
       "  <thead>\n",
       "    <tr style=\"text-align: right;\">\n",
       "      <th></th>\n",
       "      <th>playDispNm</th>\n",
       "      <th>playStat</th>\n",
       "      <th>playMin</th>\n",
       "      <th>playPos</th>\n",
       "      <th>playHeight</th>\n",
       "      <th>playWeight</th>\n",
       "      <th>playPTS</th>\n",
       "      <th>playAST</th>\n",
       "      <th>playTO</th>\n",
       "      <th>playSTL</th>\n",
       "      <th>...</th>\n",
       "      <th>play3PA</th>\n",
       "      <th>play3PM</th>\n",
       "      <th>play3P%</th>\n",
       "      <th>playFTA</th>\n",
       "      <th>playFTM</th>\n",
       "      <th>playFT%</th>\n",
       "      <th>playORB</th>\n",
       "      <th>playDRB</th>\n",
       "      <th>playTRB</th>\n",
       "      <th>playPosLabel</th>\n",
       "    </tr>\n",
       "  </thead>\n",
       "  <tbody>\n",
       "    <tr>\n",
       "      <th>0</th>\n",
       "      <td>A.J. Price</td>\n",
       "      <td>Starter</td>\n",
       "      <td>29</td>\n",
       "      <td>G</td>\n",
       "      <td>74</td>\n",
       "      <td>195</td>\n",
       "      <td>7</td>\n",
       "      <td>6</td>\n",
       "      <td>1</td>\n",
       "      <td>0</td>\n",
       "      <td>...</td>\n",
       "      <td>9</td>\n",
       "      <td>2</td>\n",
       "      <td>0.2222</td>\n",
       "      <td>1</td>\n",
       "      <td>1</td>\n",
       "      <td>1.0</td>\n",
       "      <td>1</td>\n",
       "      <td>1</td>\n",
       "      <td>2</td>\n",
       "      <td>1</td>\n",
       "    </tr>\n",
       "    <tr>\n",
       "      <th>1</th>\n",
       "      <td>Trevor Ariza</td>\n",
       "      <td>Starter</td>\n",
       "      <td>25</td>\n",
       "      <td>G</td>\n",
       "      <td>80</td>\n",
       "      <td>200</td>\n",
       "      <td>9</td>\n",
       "      <td>4</td>\n",
       "      <td>0</td>\n",
       "      <td>3</td>\n",
       "      <td>...</td>\n",
       "      <td>4</td>\n",
       "      <td>2</td>\n",
       "      <td>0.5000</td>\n",
       "      <td>2</td>\n",
       "      <td>1</td>\n",
       "      <td>0.5</td>\n",
       "      <td>1</td>\n",
       "      <td>2</td>\n",
       "      <td>3</td>\n",
       "      <td>1</td>\n",
       "    </tr>\n",
       "    <tr>\n",
       "      <th>2</th>\n",
       "      <td>Emeka Okafor</td>\n",
       "      <td>Starter</td>\n",
       "      <td>25</td>\n",
       "      <td>C</td>\n",
       "      <td>82</td>\n",
       "      <td>255</td>\n",
       "      <td>10</td>\n",
       "      <td>0</td>\n",
       "      <td>1</td>\n",
       "      <td>0</td>\n",
       "      <td>...</td>\n",
       "      <td>0</td>\n",
       "      <td>0</td>\n",
       "      <td>0.0000</td>\n",
       "      <td>4</td>\n",
       "      <td>2</td>\n",
       "      <td>0.5</td>\n",
       "      <td>5</td>\n",
       "      <td>2</td>\n",
       "      <td>7</td>\n",
       "      <td>2</td>\n",
       "    </tr>\n",
       "  </tbody>\n",
       "</table>\n",
       "<p>3 rows × 28 columns</p>\n",
       "</div>"
      ],
      "text/plain": [
       "     playDispNm playStat  playMin playPos  playHeight  playWeight  playPTS  \\\n",
       "0    A.J. Price  Starter       29       G          74         195        7   \n",
       "1  Trevor Ariza  Starter       25       G          80         200        9   \n",
       "2  Emeka Okafor  Starter       25       C          82         255       10   \n",
       "\n",
       "   playAST  playTO  playSTL  ...  play3PA  play3PM  play3P%  playFTA  playFTM  \\\n",
       "0        6       1        0  ...        9        2   0.2222        1        1   \n",
       "1        4       0        3  ...        4        2   0.5000        2        1   \n",
       "2        0       1        0  ...        0        0   0.0000        4        2   \n",
       "\n",
       "   playFT%  playORB  playDRB  playTRB  playPosLabel  \n",
       "0      1.0        1        1        2             1  \n",
       "1      0.5        1        2        3             1  \n",
       "2      0.5        5        2        7             2  \n",
       "\n",
       "[3 rows x 28 columns]"
      ]
     },
     "execution_count": 14,
     "metadata": {},
     "output_type": "execute_result"
    }
   ],
   "source": [
    "cols_drop2 = ['gmDate', 'gmTime', 'seasTyp', 'playLNm', 'playFNm', 'teamAbbr', 'teamConf', 'teamDiv', 'teamLoc', \n",
    "              'teamRslt', 'teamDayOff', 'offLNm1', 'offFNm1', 'offLNm2', 'offFNm2', 'offLNm3', 'offFNm3', \n",
    "              'playBDate', 'opptAbbr', 'opptConf', 'opptDiv', 'opptLoc', 'opptRslt', \n",
    "              'opptDayOff'] #columns to be dropped\n",
    "\n",
    "second_copy_ply.drop(cols_drop2, axis = 1, inplace = True)\n",
    "\n",
    "pos_map = {'G': 1, 'C': 2, 'F': 3}\n",
    "second_copy_ply['playPosLabel'] = second_copy_ply['playPos'].map(pos_map) \n",
    "\n",
    "second_copy_ply.head(3)"
   ]
  },
  {
   "cell_type": "markdown",
   "metadata": {},
   "source": [
    "Split our data into train and test data."
   ]
  },
  {
   "cell_type": "code",
   "execution_count": 15,
   "metadata": {},
   "outputs": [],
   "source": [
    "#split our data\n",
    "from sklearn.model_selection import train_test_split\n",
    "\n",
    "train, test = train_test_split(second_copy_ply, test_size=0.1, random_state=42)"
   ]
  },
  {
   "cell_type": "code",
   "execution_count": 16,
   "metadata": {},
   "outputs": [
    {
     "data": {
      "text/html": [
       "<div>\n",
       "<style scoped>\n",
       "    .dataframe tbody tr th:only-of-type {\n",
       "        vertical-align: middle;\n",
       "    }\n",
       "\n",
       "    .dataframe tbody tr th {\n",
       "        vertical-align: top;\n",
       "    }\n",
       "\n",
       "    .dataframe thead th {\n",
       "        text-align: right;\n",
       "    }\n",
       "</style>\n",
       "<table border=\"1\" class=\"dataframe\">\n",
       "  <thead>\n",
       "    <tr style=\"text-align: right;\">\n",
       "      <th></th>\n",
       "      <th>playDispNm</th>\n",
       "      <th>playStat</th>\n",
       "      <th>playMin</th>\n",
       "      <th>playPos</th>\n",
       "      <th>playHeight</th>\n",
       "      <th>playWeight</th>\n",
       "      <th>playPTS</th>\n",
       "      <th>playAST</th>\n",
       "      <th>playTO</th>\n",
       "      <th>playSTL</th>\n",
       "      <th>...</th>\n",
       "      <th>play3PA</th>\n",
       "      <th>play3PM</th>\n",
       "      <th>play3P%</th>\n",
       "      <th>playFTA</th>\n",
       "      <th>playFTM</th>\n",
       "      <th>playFT%</th>\n",
       "      <th>playORB</th>\n",
       "      <th>playDRB</th>\n",
       "      <th>playTRB</th>\n",
       "      <th>playPosLabel</th>\n",
       "    </tr>\n",
       "  </thead>\n",
       "  <tbody>\n",
       "    <tr>\n",
       "      <th>105482</th>\n",
       "      <td>Aaron Brooks</td>\n",
       "      <td>Bench</td>\n",
       "      <td>21</td>\n",
       "      <td>G</td>\n",
       "      <td>72</td>\n",
       "      <td>161</td>\n",
       "      <td>4</td>\n",
       "      <td>7</td>\n",
       "      <td>2</td>\n",
       "      <td>1</td>\n",
       "      <td>...</td>\n",
       "      <td>3</td>\n",
       "      <td>0</td>\n",
       "      <td>0.0000</td>\n",
       "      <td>2</td>\n",
       "      <td>2</td>\n",
       "      <td>1.0000</td>\n",
       "      <td>0</td>\n",
       "      <td>2</td>\n",
       "      <td>2</td>\n",
       "      <td>1</td>\n",
       "    </tr>\n",
       "    <tr>\n",
       "      <th>2119</th>\n",
       "      <td>Jae Crowder</td>\n",
       "      <td>Starter</td>\n",
       "      <td>13</td>\n",
       "      <td>F</td>\n",
       "      <td>78</td>\n",
       "      <td>235</td>\n",
       "      <td>3</td>\n",
       "      <td>1</td>\n",
       "      <td>0</td>\n",
       "      <td>0</td>\n",
       "      <td>...</td>\n",
       "      <td>4</td>\n",
       "      <td>1</td>\n",
       "      <td>0.2500</td>\n",
       "      <td>0</td>\n",
       "      <td>0</td>\n",
       "      <td>0.0000</td>\n",
       "      <td>0</td>\n",
       "      <td>0</td>\n",
       "      <td>0</td>\n",
       "      <td>3</td>\n",
       "    </tr>\n",
       "    <tr>\n",
       "      <th>43466</th>\n",
       "      <td>Isaiah Thomas</td>\n",
       "      <td>Starter</td>\n",
       "      <td>34</td>\n",
       "      <td>G</td>\n",
       "      <td>69</td>\n",
       "      <td>185</td>\n",
       "      <td>12</td>\n",
       "      <td>5</td>\n",
       "      <td>3</td>\n",
       "      <td>3</td>\n",
       "      <td>...</td>\n",
       "      <td>6</td>\n",
       "      <td>2</td>\n",
       "      <td>0.3333</td>\n",
       "      <td>3</td>\n",
       "      <td>2</td>\n",
       "      <td>0.6667</td>\n",
       "      <td>0</td>\n",
       "      <td>3</td>\n",
       "      <td>3</td>\n",
       "      <td>1</td>\n",
       "    </tr>\n",
       "  </tbody>\n",
       "</table>\n",
       "<p>3 rows × 28 columns</p>\n",
       "</div>"
      ],
      "text/plain": [
       "           playDispNm playStat  playMin playPos  playHeight  playWeight  \\\n",
       "105482   Aaron Brooks    Bench       21       G          72         161   \n",
       "2119      Jae Crowder  Starter       13       F          78         235   \n",
       "43466   Isaiah Thomas  Starter       34       G          69         185   \n",
       "\n",
       "        playPTS  playAST  playTO  playSTL  ...  play3PA  play3PM  play3P%  \\\n",
       "105482        4        7       2        1  ...        3        0   0.0000   \n",
       "2119          3        1       0        0  ...        4        1   0.2500   \n",
       "43466        12        5       3        3  ...        6        2   0.3333   \n",
       "\n",
       "        playFTA  playFTM  playFT%  playORB  playDRB  playTRB  playPosLabel  \n",
       "105482        2        2   1.0000        0        2        2             1  \n",
       "2119          0        0   0.0000        0        0        0             3  \n",
       "43466         3        2   0.6667        0        3        3             1  \n",
       "\n",
       "[3 rows x 28 columns]"
      ]
     },
     "execution_count": 16,
     "metadata": {},
     "output_type": "execute_result"
    }
   ],
   "source": [
    "train.head(3)"
   ]
  },
  {
   "cell_type": "code",
   "execution_count": 17,
   "metadata": {},
   "outputs": [
    {
     "data": {
      "text/html": [
       "<div>\n",
       "<style scoped>\n",
       "    .dataframe tbody tr th:only-of-type {\n",
       "        vertical-align: middle;\n",
       "    }\n",
       "\n",
       "    .dataframe tbody tr th {\n",
       "        vertical-align: top;\n",
       "    }\n",
       "\n",
       "    .dataframe thead th {\n",
       "        text-align: right;\n",
       "    }\n",
       "</style>\n",
       "<table border=\"1\" class=\"dataframe\">\n",
       "  <thead>\n",
       "    <tr style=\"text-align: right;\">\n",
       "      <th></th>\n",
       "      <th>playDispNm</th>\n",
       "      <th>playStat</th>\n",
       "      <th>playMin</th>\n",
       "      <th>playPos</th>\n",
       "      <th>playHeight</th>\n",
       "      <th>playWeight</th>\n",
       "      <th>playPTS</th>\n",
       "      <th>playAST</th>\n",
       "      <th>playTO</th>\n",
       "      <th>playSTL</th>\n",
       "      <th>...</th>\n",
       "      <th>play3PA</th>\n",
       "      <th>play3PM</th>\n",
       "      <th>play3P%</th>\n",
       "      <th>playFTA</th>\n",
       "      <th>playFTM</th>\n",
       "      <th>playFT%</th>\n",
       "      <th>playORB</th>\n",
       "      <th>playDRB</th>\n",
       "      <th>playTRB</th>\n",
       "      <th>playPosLabel</th>\n",
       "    </tr>\n",
       "  </thead>\n",
       "  <tbody>\n",
       "    <tr>\n",
       "      <th>19298</th>\n",
       "      <td>Tobias Harris</td>\n",
       "      <td>Starter</td>\n",
       "      <td>21</td>\n",
       "      <td>F</td>\n",
       "      <td>80</td>\n",
       "      <td>226</td>\n",
       "      <td>7</td>\n",
       "      <td>0</td>\n",
       "      <td>4</td>\n",
       "      <td>0</td>\n",
       "      <td>...</td>\n",
       "      <td>1</td>\n",
       "      <td>1</td>\n",
       "      <td>1.0</td>\n",
       "      <td>2</td>\n",
       "      <td>2</td>\n",
       "      <td>1.00</td>\n",
       "      <td>0</td>\n",
       "      <td>8</td>\n",
       "      <td>8</td>\n",
       "      <td>3</td>\n",
       "    </tr>\n",
       "    <tr>\n",
       "      <th>4710</th>\n",
       "      <td>Ty Lawson</td>\n",
       "      <td>Starter</td>\n",
       "      <td>38</td>\n",
       "      <td>G</td>\n",
       "      <td>71</td>\n",
       "      <td>195</td>\n",
       "      <td>17</td>\n",
       "      <td>9</td>\n",
       "      <td>3</td>\n",
       "      <td>4</td>\n",
       "      <td>...</td>\n",
       "      <td>4</td>\n",
       "      <td>2</td>\n",
       "      <td>0.5</td>\n",
       "      <td>1</td>\n",
       "      <td>1</td>\n",
       "      <td>1.00</td>\n",
       "      <td>0</td>\n",
       "      <td>4</td>\n",
       "      <td>4</td>\n",
       "      <td>1</td>\n",
       "    </tr>\n",
       "    <tr>\n",
       "      <th>92583</th>\n",
       "      <td>Tony Parker</td>\n",
       "      <td>Starter</td>\n",
       "      <td>24</td>\n",
       "      <td>G</td>\n",
       "      <td>74</td>\n",
       "      <td>180</td>\n",
       "      <td>13</td>\n",
       "      <td>6</td>\n",
       "      <td>3</td>\n",
       "      <td>0</td>\n",
       "      <td>...</td>\n",
       "      <td>0</td>\n",
       "      <td>0</td>\n",
       "      <td>0.0</td>\n",
       "      <td>4</td>\n",
       "      <td>3</td>\n",
       "      <td>0.75</td>\n",
       "      <td>0</td>\n",
       "      <td>4</td>\n",
       "      <td>4</td>\n",
       "      <td>1</td>\n",
       "    </tr>\n",
       "  </tbody>\n",
       "</table>\n",
       "<p>3 rows × 28 columns</p>\n",
       "</div>"
      ],
      "text/plain": [
       "          playDispNm playStat  playMin playPos  playHeight  playWeight  \\\n",
       "19298  Tobias Harris  Starter       21       F          80         226   \n",
       "4710       Ty Lawson  Starter       38       G          71         195   \n",
       "92583    Tony Parker  Starter       24       G          74         180   \n",
       "\n",
       "       playPTS  playAST  playTO  playSTL  ...  play3PA  play3PM  play3P%  \\\n",
       "19298        7        0       4        0  ...        1        1      1.0   \n",
       "4710        17        9       3        4  ...        4        2      0.5   \n",
       "92583       13        6       3        0  ...        0        0      0.0   \n",
       "\n",
       "       playFTA  playFTM  playFT%  playORB  playDRB  playTRB  playPosLabel  \n",
       "19298        2        2     1.00        0        8        8             3  \n",
       "4710         1        1     1.00        0        4        4             1  \n",
       "92583        4        3     0.75        0        4        4             1  \n",
       "\n",
       "[3 rows x 28 columns]"
      ]
     },
     "execution_count": 17,
     "metadata": {},
     "output_type": "execute_result"
    }
   ],
   "source": [
    "test.head(3)"
   ]
  },
  {
   "cell_type": "markdown",
   "metadata": {},
   "source": [
    "Create functions as a pipeline to make our X matrix and y label."
   ]
  },
  {
   "cell_type": "code",
   "execution_count": 18,
   "metadata": {},
   "outputs": [],
   "source": [
    "def select_columns(data, *columns):\n",
    "    \"\"\"Select only columns passed as arguments.\"\"\"\n",
    "    return data.loc[:, columns]\n",
    "\n",
    "def process_data_gm(data):\n",
    "    \"\"\"Process the data for a guided model.\"\"\"\n",
    "    \n",
    "    # Transform Data, Select Features\n",
    "    data = select_columns(data,  \n",
    "                          'playHeight',\n",
    "                          'playWeight',\n",
    "                          'playPosLabel'\n",
    "                         )\n",
    "    \n",
    "    # Return predictors and response variables separately\n",
    "    X = data.drop(['playPosLabel'], axis = 1)\n",
    "    y = data.loc[:, 'playPosLabel']\n",
    "    \n",
    "    return X, y"
   ]
  },
  {
   "cell_type": "markdown",
   "metadata": {},
   "source": [
    "Call the functions on both train and test data. "
   ]
  },
  {
   "cell_type": "code",
   "execution_count": 19,
   "metadata": {},
   "outputs": [],
   "source": [
    "X_train, y_train = process_data_gm(train)\n",
    "X_test, y_test = process_data_gm(test)"
   ]
  },
  {
   "cell_type": "markdown",
   "metadata": {},
   "source": [
    "Defined random forest classifier model."
   ]
  },
  {
   "cell_type": "code",
   "execution_count": 20,
   "metadata": {},
   "outputs": [],
   "source": [
    "from sklearn.ensemble import RandomForestClassifier as RFC\n",
    "\n",
    "rfc_b = RFC()\n",
    "model = rfc_b.fit(X_train,y_train)"
   ]
  },
  {
   "cell_type": "markdown",
   "metadata": {},
   "source": [
    "Get the accuracy of the model on the train dataset."
   ]
  },
  {
   "cell_type": "code",
   "execution_count": 21,
   "metadata": {},
   "outputs": [
    {
     "name": "stdout",
     "output_type": "stream",
     "text": [
      "Training Accuracy:  0.8797996303722679\n"
     ]
    }
   ],
   "source": [
    "training_accuracy = model.score(X_train, y_train)\n",
    "print(\"Training Accuracy: \", training_accuracy)"
   ]
  },
  {
   "cell_type": "markdown",
   "metadata": {},
   "source": [
    "Cross validation to ensure we're not overfitting/underfitting."
   ]
  },
  {
   "cell_type": "code",
   "execution_count": 22,
   "metadata": {},
   "outputs": [
    {
     "name": "stdout",
     "output_type": "stream",
     "text": [
      "[0.88162261 0.87901384 0.87919224 0.88019124 0.87830027]\n"
     ]
    }
   ],
   "source": [
    "from sklearn.model_selection import cross_val_score\n",
    "\n",
    "cross_val_score_train = cross_val_score(model, X_train, y_train, cv=5)\n",
    "print(cross_val_score_train)"
   ]
  },
  {
   "cell_type": "code",
   "execution_count": 23,
   "metadata": {},
   "outputs": [
    {
     "name": "stdout",
     "output_type": "stream",
     "text": [
      "0.8796640386570204\n"
     ]
    }
   ],
   "source": [
    "#take the average of our cross validation scores\n",
    "average_cross_val = np.mean(cross_val_score_train)\n",
    "print(average_cross_val)"
   ]
  },
  {
   "cell_type": "code",
   "execution_count": 24,
   "metadata": {},
   "outputs": [
    {
     "data": {
      "text/plain": [
       "array([1, 3, 1, ..., 2, 1, 3])"
      ]
     },
     "execution_count": 24,
     "metadata": {},
     "output_type": "execute_result"
    }
   ],
   "source": [
    "y_pred = model.predict(X_train)\n",
    "y_pred"
   ]
  },
  {
   "cell_type": "markdown",
   "metadata": {},
   "source": [
    "Construct confusion matrix to get the precision, recall, and false-alarm rate scores."
   ]
  },
  {
   "cell_type": "code",
   "execution_count": 25,
   "metadata": {},
   "outputs": [
    {
     "data": {
      "text/plain": [
       "array([[55947,     0,  4321],\n",
       "       [    0, 17946,  4609],\n",
       "       [ 4130,  3785, 49403]])"
      ]
     },
     "execution_count": 25,
     "metadata": {},
     "output_type": "execute_result"
    }
   ],
   "source": [
    "from sklearn.metrics import confusion_matrix\n",
    "confusion_matrix1 = confusion_matrix(y_train, y_pred)\n",
    "confusion_matrix1"
   ]
  },
  {
   "cell_type": "code",
   "execution_count": 26,
   "metadata": {},
   "outputs": [
    {
     "name": "stdout",
     "output_type": "stream",
     "text": [
      "Precision: [0.93125489 0.82582486 0.84691341]\n",
      "Recall: [0.92830358 0.79565507 0.86191074]\n",
      "False Alarm Rate: [0.05170708 0.03218921 0.10782029]\n"
     ]
    }
   ],
   "source": [
    "false_pos = confusion_matrix1.sum(axis=0) - np.diag(confusion_matrix1)  \n",
    "false_neg = confusion_matrix1.sum(axis=1) - np.diag(confusion_matrix1)\n",
    "true_pos = np.diag(confusion_matrix1)\n",
    "true_neg = confusion_matrix1.sum() - (false_pos + false_neg + true_pos)\n",
    "\n",
    "false_pos = false_pos.astype(float)\n",
    "false_neg = false_neg.astype(float)\n",
    "true_pos = true_pos.astype(float)\n",
    "true_neg = true_neg.astype(float)\n",
    "\n",
    "recall = true_pos / (true_pos + false_neg)\n",
    "precision = true_pos / (true_pos + false_pos)\n",
    "false_alarm = false_pos / (false_pos + true_neg)\n",
    "\n",
    "print(\"Precision: \" + str(precision))\n",
    "print(\"Recall: \" + str(recall))\n",
    "print(\"False Alarm Rate: \" + str(false_alarm))"
   ]
  },
  {
   "cell_type": "code",
   "execution_count": 27,
   "metadata": {},
   "outputs": [
    {
     "name": "stdout",
     "output_type": "stream",
     "text": [
      "              precision    recall  f1-score   support\n",
      "\n",
      "       Guard       0.93      0.93      0.93     60268\n",
      "      Center       0.83      0.80      0.81     22555\n",
      "     Forward       0.85      0.86      0.85     57318\n",
      "\n",
      "    accuracy                           0.88    140141\n",
      "   macro avg       0.87      0.86      0.86    140141\n",
      "weighted avg       0.88      0.88      0.88    140141\n",
      "\n"
     ]
    }
   ],
   "source": [
    "from sklearn.metrics import classification_report\n",
    "\n",
    "names = ['Guard', 'Center', 'Forward']\n",
    "report = classification_report(y_train, y_pred, target_names = names)\n",
    "print(report)"
   ]
  },
  {
   "cell_type": "markdown",
   "metadata": {},
   "source": [
    "The precision, recall, and false-alarm rate scores are good so we can move on to check our test accuracy."
   ]
  },
  {
   "cell_type": "code",
   "execution_count": 28,
   "metadata": {},
   "outputs": [
    {
     "name": "stdout",
     "output_type": "stream",
     "text": [
      "Test Accuracy:  0.8815823272540457\n"
     ]
    }
   ],
   "source": [
    "#get the test accuracy \n",
    "test_accuracy = model.score(X_test, y_test)\n",
    "print(\"Test Accuracy: \", test_accuracy)"
   ]
  },
  {
   "cell_type": "code",
   "execution_count": 29,
   "metadata": {},
   "outputs": [
    {
     "data": {
      "text/plain": [
       "array([3, 1, 1, ..., 1, 2, 2])"
      ]
     },
     "execution_count": 29,
     "metadata": {},
     "output_type": "execute_result"
    }
   ],
   "source": [
    "y_pred_test = model.predict(X_test)\n",
    "y_pred_test"
   ]
  },
  {
   "cell_type": "code",
   "execution_count": 30,
   "metadata": {},
   "outputs": [
    {
     "data": {
      "text/plain": [
       "array([[6243,    0,  492],\n",
       "       [   0, 2020,  485],\n",
       "       [ 443,  424, 5465]])"
      ]
     },
     "execution_count": 30,
     "metadata": {},
     "output_type": "execute_result"
    }
   ],
   "source": [
    "from sklearn.metrics import confusion_matrix\n",
    "confusion_matrix_test = confusion_matrix(y_test, y_pred_test)\n",
    "confusion_matrix_test"
   ]
  },
  {
   "cell_type": "code",
   "execution_count": 31,
   "metadata": {},
   "outputs": [
    {
     "name": "stdout",
     "output_type": "stream",
     "text": [
      "Precision: [0.93374215 0.82651391 0.84833903]\n",
      "Recall: [0.92694878 0.80638723 0.86307644]\n",
      "False Alarm Rate: [0.05013013 0.03244815 0.10573593]\n"
     ]
    }
   ],
   "source": [
    "false_pos = confusion_matrix_test.sum(axis=0) - np.diag(confusion_matrix_test)  \n",
    "false_neg = confusion_matrix_test.sum(axis=1) - np.diag(confusion_matrix_test)\n",
    "true_pos = np.diag(confusion_matrix_test)\n",
    "true_neg = confusion_matrix_test.sum() - (false_pos + false_neg + true_pos)\n",
    "\n",
    "false_pos = false_pos.astype(float)\n",
    "false_neg = false_neg.astype(float)\n",
    "true_pos = true_pos.astype(float)\n",
    "true_neg = true_neg.astype(float)\n",
    "\n",
    "recall = true_pos / (true_pos + false_neg)\n",
    "precision = true_pos / (true_pos + false_pos)\n",
    "false_alarm = false_pos / (false_pos + true_neg)\n",
    "\n",
    "print(\"Precision: \" + str(precision))\n",
    "print(\"Recall: \" + str(recall))\n",
    "print(\"False Alarm Rate: \" + str(false_alarm))"
   ]
  },
  {
   "cell_type": "code",
   "execution_count": 32,
   "metadata": {},
   "outputs": [
    {
     "name": "stdout",
     "output_type": "stream",
     "text": [
      "              precision    recall  f1-score   support\n",
      "\n",
      "       Guard       0.93      0.93      0.93      6735\n",
      "      Center       0.83      0.81      0.82      2505\n",
      "     Forward       0.85      0.86      0.86      6332\n",
      "\n",
      "    accuracy                           0.88     15572\n",
      "   macro avg       0.87      0.87      0.87     15572\n",
      "weighted avg       0.88      0.88      0.88     15572\n",
      "\n"
     ]
    }
   ],
   "source": [
    "names = ['Guard', 'Center', 'Forward']\n",
    "report = classification_report(y_test, y_pred_test, target_names = names)\n",
    "print(report)"
   ]
  },
  {
   "cell_type": "markdown",
   "metadata": {},
   "source": [
    "Thus, our model is good."
   ]
  }
 ],
 "metadata": {
  "kernelspec": {
   "display_name": "Python 3",
   "language": "python",
   "name": "python3"
  },
  "language_info": {
   "codemirror_mode": {
    "name": "ipython",
    "version": 3
   },
   "file_extension": ".py",
   "mimetype": "text/x-python",
   "name": "python",
   "nbconvert_exporter": "python",
   "pygments_lexer": "ipython3",
   "version": "3.8.6"
  }
 },
 "nbformat": 4,
 "nbformat_minor": 4
}
